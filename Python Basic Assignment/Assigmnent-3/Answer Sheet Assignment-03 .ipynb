{
 "cells": [
  {
   "cell_type": "code",
   "execution_count": 6,
   "id": "9d04f8f5",
   "metadata": {},
   "outputs": [
    {
     "ename": "SyntaxError",
     "evalue": "invalid syntax (Temp/ipykernel_4548/1203504271.py, line 1)",
     "output_type": "error",
     "traceback": [
      "\u001b[1;36m  File \u001b[1;32m\"C:\\Users\\MYPC~1\\AppData\\Local\\Temp/ipykernel_4548/1203504271.py\"\u001b[1;36m, line \u001b[1;32m1\u001b[0m\n\u001b[1;33m    1. Why are functions advantageous to have in your programs\u001b[0m\n\u001b[1;37m       ^\u001b[0m\n\u001b[1;31mSyntaxError\u001b[0m\u001b[1;31m:\u001b[0m invalid syntax\n"
     ]
    }
   ],
   "source": [
    "1. Why are functions advantageous to have in your programs.\n",
    "\n",
    "Ans: code reusabilit,improve maintainability and scalability."
   ]
  },
  {
   "cell_type": "code",
   "execution_count": null,
   "id": "33ba3fab",
   "metadata": {},
   "outputs": [],
   "source": [
    "2.When does the code in a function run: when it's specified or when it's called\n",
    "\n",
    "Ans: when it called at that time the code inside a function run."
   ]
  },
  {
   "cell_type": "code",
   "execution_count": 9,
   "id": "48cd7496",
   "metadata": {},
   "outputs": [
    {
     "ename": "SyntaxError",
     "evalue": "invalid syntax (Temp/ipykernel_4548/1554247648.py, line 1)",
     "output_type": "error",
     "traceback": [
      "\u001b[1;36m  File \u001b[1;32m\"C:\\Users\\MYPC~1\\AppData\\Local\\Temp/ipykernel_4548/1554247648.py\"\u001b[1;36m, line \u001b[1;32m1\u001b[0m\n\u001b[1;33m    3.What statement creates a function.\u001b[0m\n\u001b[1;37m      ^\u001b[0m\n\u001b[1;31mSyntaxError\u001b[0m\u001b[1;31m:\u001b[0m invalid syntax\n"
     ]
    }
   ],
   "source": [
    "3.What statement creates a function.\n",
    "\n",
    "Ans: function is created by def keyword followed by function name, round brackets and a colon.\n",
    "    "
   ]
  },
  {
   "cell_type": "code",
   "execution_count": null,
   "id": "4bb3c9b8",
   "metadata": {},
   "outputs": [],
   "source": [
    "4. What is the difference between a function and a function call?\n",
    "\n",
    "A function is a block of code that does a particular operation and returns a result.\n",
    "A function call is the code used to pass control to a function."
   ]
  },
  {
   "cell_type": "code",
   "execution_count": null,
   "id": "76b5794d",
   "metadata": {},
   "outputs": [],
   "source": [
    "5. How many global scopes are there in a Python program? How many local scopes?\n",
    "\n",
    "--> one global scope is there."
   ]
  },
  {
   "cell_type": "code",
   "execution_count": null,
   "id": "37355aa6",
   "metadata": {},
   "outputs": [],
   "source": [
    "6. What happens to variables in a local scope when the function call returns\n",
    "\n",
    "--> The local variable can be used outside the function any time after the function call completes."
   ]
  },
  {
   "cell_type": "code",
   "execution_count": null,
   "id": "c5cb2b6f",
   "metadata": {},
   "outputs": [],
   "source": [
    " 7.What is the concept of a return value? Is it possible to have a return value in an expression?\n",
    "\n",
    "--> the values that a function returns when it has completed. yes it is possible to have."
   ]
  },
  {
   "cell_type": "code",
   "execution_count": null,
   "id": "d5f25a1a",
   "metadata": {},
   "outputs": [],
   "source": [
    "8. If a function does not have a return statement, what is the return value of a call to that function?\n",
    "--> it returns None"
   ]
  },
  {
   "cell_type": "code",
   "execution_count": null,
   "id": "e12abce2",
   "metadata": {},
   "outputs": [],
   "source": [
    "9. How do you make a function variable refer to the global variable\n",
    "--> by using global keyword.\n"
   ]
  },
  {
   "cell_type": "code",
   "execution_count": null,
   "id": "605099d4",
   "metadata": {},
   "outputs": [],
   "source": [
    "10. What is the data type of None?\n",
    "\n",
    "--> print is a datatype of none"
   ]
  },
  {
   "cell_type": "code",
   "execution_count": null,
   "id": "049ddfd4",
   "metadata": {},
   "outputs": [],
   "source": [
    "11. What does the sentence import areallyourpetsnamederic do?\n",
    "--> imports a module named areallyourpetsnamederic."
   ]
  },
  {
   "cell_type": "code",
   "execution_count": null,
   "id": "2eba5175",
   "metadata": {},
   "outputs": [],
   "source": [
    "12. If you had a bacon() feature in a spam module, what would you call it after importing spam?\n",
    "--> spam.bacon()"
   ]
  },
  {
   "cell_type": "code",
   "execution_count": null,
   "id": "87b9e929",
   "metadata": {},
   "outputs": [],
   "source": [
    "13. What can you do to save a programme from crashing if it encounters an error?\n",
    "\n",
    "--> by handling the exception using try and except."
   ]
  },
  {
   "cell_type": "code",
   "execution_count": null,
   "id": "bf22787d",
   "metadata": {},
   "outputs": [],
   "source": [
    "14. What is the purpose of the try clause? What is the purpose of the except clause?\n",
    "\n",
    "-->  The code inside the try block will execute when there is no error in the program.\n",
    "Whereas the code inside the except block will execute whenever the program encounters \n",
    "some error in the preceding try block."
   ]
  }
 ],
 "metadata": {
  "kernelspec": {
   "display_name": "Python 3 (ipykernel)",
   "language": "python",
   "name": "python3"
  },
  "language_info": {
   "codemirror_mode": {
    "name": "ipython",
    "version": 3
   },
   "file_extension": ".py",
   "mimetype": "text/x-python",
   "name": "python",
   "nbconvert_exporter": "python",
   "pygments_lexer": "ipython3",
   "version": "3.9.7"
  }
 },
 "nbformat": 4,
 "nbformat_minor": 5
}
