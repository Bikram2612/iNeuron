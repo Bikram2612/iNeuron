{
 "cells": [
  {
   "cell_type": "code",
   "execution_count": null,
   "id": "d7fb99cc",
   "metadata": {},
   "outputs": [],
   "source": [
    "1.What are the two values of the Boolean data type? How do you write them?\n",
    "\n",
    "Ans-1 : True & False. In Python, boolean variables are defined by the True and False keywords."
   ]
  },
  {
   "cell_type": "code",
   "execution_count": null,
   "id": "361b171c",
   "metadata": {},
   "outputs": [],
   "source": [
    "2.What are the three different types of Boolean operators?\n",
    "\n",
    "Ans-2: \n",
    "    AND, OR, NOT"
   ]
  },
  {
   "cell_type": "code",
   "execution_count": null,
   "id": "42f974bb",
   "metadata": {},
   "outputs": [],
   "source": [
    "3. Make a list of each Boolean operator's truth tables \n",
    "(i.e. every possible combination of Boolean values for the operator and what it evaluate ).\n",
    "\n",
    "Ans 3:\n",
    "    AND OPERATOR\n",
    "    \n",
    "    A(INPUT 1)    B(INPUT 2)   OUTPUT\n",
    "    True             True        True\n",
    "    False            False       False\n",
    "    True             False       False\n",
    "    False            True        False\n",
    "    \n",
    "    \n",
    "OR OPERATOR\n",
    "    \n",
    "    A(INPUT 1)    B(INPUT 2)   OUTPUT\n",
    "    True             True        True\n",
    "    False            False       False\n",
    "    True             False       True\n",
    "    False            True        True\n",
    "    \n",
    "\n",
    "NOT OPERATOR\n",
    "    \n",
    "    A(INPUT 1)       OUTPUT\n",
    "    True             False\n",
    "    False            True\n",
    "   "
   ]
  },
  {
   "cell_type": "code",
   "execution_count": 7,
   "id": "514bb203",
   "metadata": {},
   "outputs": [
    {
     "data": {
      "text/plain": [
       "False"
      ]
     },
     "execution_count": 7,
     "metadata": {},
     "output_type": "execute_result"
    }
   ],
   "source": [
    "#4. What are the values of the following expressions?\n",
    "\n",
    "#Ans 4:\n",
    "\n",
    "(5 > 4) and (3 == 5)"
   ]
  },
  {
   "cell_type": "code",
   "execution_count": 8,
   "id": "e2994976",
   "metadata": {},
   "outputs": [
    {
     "data": {
      "text/plain": [
       "False"
      ]
     },
     "execution_count": 8,
     "metadata": {},
     "output_type": "execute_result"
    }
   ],
   "source": [
    "not (5 > 4)"
   ]
  },
  {
   "cell_type": "code",
   "execution_count": 9,
   "id": "ff821abc",
   "metadata": {},
   "outputs": [
    {
     "data": {
      "text/plain": [
       "True"
      ]
     },
     "execution_count": 9,
     "metadata": {},
     "output_type": "execute_result"
    }
   ],
   "source": [
    "(5 > 4) or (3 == 5)"
   ]
  },
  {
   "cell_type": "code",
   "execution_count": 10,
   "id": "c811f418",
   "metadata": {},
   "outputs": [
    {
     "data": {
      "text/plain": [
       "False"
      ]
     },
     "execution_count": 10,
     "metadata": {},
     "output_type": "execute_result"
    }
   ],
   "source": [
    "not ((5 > 4) or (3 == 5))"
   ]
  },
  {
   "cell_type": "code",
   "execution_count": 26,
   "id": "c29083b0",
   "metadata": {},
   "outputs": [
    {
     "data": {
      "text/plain": [
       "False"
      ]
     },
     "execution_count": 26,
     "metadata": {},
     "output_type": "execute_result"
    }
   ],
   "source": [
    "(True and True) and (True == False)"
   ]
  },
  {
   "cell_type": "code",
   "execution_count": 12,
   "id": "5c507c05",
   "metadata": {},
   "outputs": [
    {
     "data": {
      "text/plain": [
       "True"
      ]
     },
     "execution_count": 12,
     "metadata": {},
     "output_type": "execute_result"
    }
   ],
   "source": [
    "(not False) or (not True)"
   ]
  },
  {
   "cell_type": "code",
   "execution_count": 27,
   "id": "366e0564",
   "metadata": {},
   "outputs": [],
   "source": [
    "#5 What are the six comparison operators?\n",
    "\n",
    "# Ans: ==, !=, >, >=, <, <=."
   ]
  },
  {
   "cell_type": "code",
   "execution_count": 28,
   "id": "1b871878",
   "metadata": {},
   "outputs": [
    {
     "ename": "SyntaxError",
     "evalue": "invalid syntax (Temp/ipykernel_24936/3988848498.py, line 4)",
     "output_type": "error",
     "traceback": [
      "\u001b[1;36m  File \u001b[1;32m\"C:\\Users\\MYPC~1\\AppData\\Local\\Temp/ipykernel_24936/3988848498.py\"\u001b[1;36m, line \u001b[1;32m4\u001b[0m\n\u001b[1;33m    Ans:\u001b[0m\n\u001b[1;37m        ^\u001b[0m\n\u001b[1;31mSyntaxError\u001b[0m\u001b[1;31m:\u001b[0m invalid syntax\n"
     ]
    }
   ],
   "source": [
    "#6 . How do you tell the difference between the equal to and assignment operators?\n",
    "     #Describe a condition and when you would use one.\n",
    "\n",
    "Ans:\n",
    "\n",
    "== is used to check the equality and = is used to assign any variable.\n",
    "\n",
    "For eg- if there is any variable named a then,\n",
    "\n",
    "a==3 → it will check whether a is 3 or not\n",
    "\n",
    "a=3 → it will assign a to 3 ."
   ]
  },
  {
   "cell_type": "code",
   "execution_count": 4,
   "id": "6f608119",
   "metadata": {},
   "outputs": [
    {
     "name": "stdout",
     "output_type": "stream",
     "text": [
      "spam\n"
     ]
    }
   ],
   "source": [
    "# 7. Identify the three blocks in this code.\n",
    "\n",
    "#Ans:\n",
    "\n",
    "spam = 0\n",
    "if spam == 10:\n",
    "    print('eggs')        # indent increased, block A\n",
    "    if spam > 5:         # still block A\n",
    "        print('bacon')   # still block A, indent increased, block B inside block A\n",
    "    else:                # still block A, indent decreased, block B ended in line above\n",
    "        print('ham')     # still block A, indent increased, block C inside block A\n",
    "    print('spam')        # still block A, indent decreased, block C ended in line above\n",
    "print('spam')  \n"
   ]
  },
  {
   "cell_type": "code",
   "execution_count": null,
   "id": "8796a3d6",
   "metadata": {},
   "outputs": [],
   "source": [
    "8. Write code that prints Hello if 1 is stored in spam, prints Howdy if 2 is stored in spam,\n",
    "and prints Greetings! if anything else is stored in spam."
   ]
  },
  {
   "cell_type": "code",
   "execution_count": 5,
   "id": "9e17a03f",
   "metadata": {},
   "outputs": [
    {
     "name": "stdout",
     "output_type": "stream",
     "text": [
      "Enter the Value 0\n",
      "Greetings!\n"
     ]
    }
   ],
   "source": [
    "spam = int(input(\"Enter the Value \"))\n",
    "if spam == 1:\n",
    "    print(\"Hello\")\n",
    "elif spam == 2:\n",
    "    print(\"Howdy\")\n",
    "else:\n",
    "    print(\"Greetings!\")\n",
    "    "
   ]
  },
  {
   "cell_type": "code",
   "execution_count": null,
   "id": "288ed369",
   "metadata": {},
   "outputs": [],
   "source": [
    "9.If your programme is stuck in an endless loop, what keys you’ll press?\n",
    "\n",
    "Ans: Ctrl+C"
   ]
  },
  {
   "cell_type": "code",
   "execution_count": null,
   "id": "6f0b8f78",
   "metadata": {},
   "outputs": [],
   "source": [
    "10. How can you tell the difference between break and continue?\n",
    "\n",
    "--> The break statement will terminate the loop containing it and controls the program flow to the statement \n",
    "after the body of the loop.\n",
    "--> The continue statement used to skip the code inside loop for the current iteration."
   ]
  },
  {
   "cell_type": "code",
   "execution_count": 16,
   "id": "b31cf1a4",
   "metadata": {},
   "outputs": [
    {
     "name": "stdout",
     "output_type": "stream",
     "text": [
      "B\n",
      "i\n",
      "The end\n"
     ]
    }
   ],
   "source": [
    "for i in \"Bikram\":\n",
    "    if i==\"k\":\n",
    "        break\n",
    "    print(i)\n",
    "print(\"The end\")"
   ]
  },
  {
   "cell_type": "code",
   "execution_count": 15,
   "id": "ca30f14d",
   "metadata": {},
   "outputs": [
    {
     "name": "stdout",
     "output_type": "stream",
     "text": [
      "B\n",
      "i\n",
      "r\n",
      "a\n",
      "m\n",
      "The end\n"
     ]
    }
   ],
   "source": [
    "for i in \"Bikram\":\n",
    "    if i==\"k\":\n",
    "        continue\n",
    "    print(i)\n",
    "print(\"The end\")"
   ]
  },
  {
   "cell_type": "code",
   "execution_count": 25,
   "id": "b64465e5",
   "metadata": {},
   "outputs": [
    {
     "ename": "SyntaxError",
     "evalue": "invalid syntax (Temp/ipykernel_17552/549810418.py, line 1)",
     "output_type": "error",
     "traceback": [
      "\u001b[1;36m  File \u001b[1;32m\"C:\\Users\\MYPC~1\\AppData\\Local\\Temp/ipykernel_17552/549810418.py\"\u001b[1;36m, line \u001b[1;32m1\u001b[0m\n\u001b[1;33m    11. In a for loop, what is the difference between range(10), range(0, 10), and range(0, 10, 1)?\u001b[0m\n\u001b[1;37m        ^\u001b[0m\n\u001b[1;31mSyntaxError\u001b[0m\u001b[1;31m:\u001b[0m invalid syntax\n"
     ]
    }
   ],
   "source": [
    "11. In a for loop, what is the difference between range(10), range(0, 10), and range(0, 10, 1)?\n",
    "\n",
    "Ans:- \n",
    "a) range(10)\n",
    "\n",
    "range(stop):\n",
    "here we are passing only one argument to the range(), which is basically the end or stop range, \n",
    "it will generate a sequence of integers starting from 0 to stop -1.\n",
    "Here, start = 0 and step = 1 as a default value.\n",
    "\n",
    "return--> 0,1,2,3,4,5,6,7,8,9.\n",
    "\n",
    "\n",
    "b) range(0,10)\n",
    "\n",
    "range(start, stop)\n",
    "here we are passing two argument to the range(), which is basically the start and stop range,\n",
    "it will generate integers starting from the start number to stop -1.\n",
    "Here, the step = 1 as a default value.\n",
    "\n",
    "return--> 0,1,2,3,4,5,6,7,8,9.\n",
    "\n",
    "c) range(0,10,1)\n",
    "range(start, stop, step)\n",
    "here we are passing three argument to the range(), which is basically the start and stop range with step size,\n",
    "it will generate a sequence of numbers, starting from the start number, increments by step number, \n",
    "and stops before a stop number.\n",
    "\n",
    "return--> 0,1,2,3,4,5,6,7,8,9.\n",
    "\n"
   ]
  },
  {
   "cell_type": "code",
   "execution_count": null,
   "id": "41c2d90e",
   "metadata": {},
   "outputs": [],
   "source": [
    "12. Write a short program that prints the numbers 1 to 10 using a for loop. \n",
    "Then write an equivalent program that prints the numbers 1 to 10 using a while loop."
   ]
  },
  {
   "cell_type": "code",
   "execution_count": 15,
   "id": "a30a3865",
   "metadata": {},
   "outputs": [
    {
     "name": "stdout",
     "output_type": "stream",
     "text": [
      "1 2 3 4 5 6 7 8 9 10 "
     ]
    }
   ],
   "source": [
    "for i in range(1,11):\n",
    "    print(i ,end = \" \")"
   ]
  },
  {
   "cell_type": "code",
   "execution_count": 14,
   "id": "42663015",
   "metadata": {},
   "outputs": [
    {
     "name": "stdout",
     "output_type": "stream",
     "text": [
      "1 2 3 4 5 6 7 8 9 10 "
     ]
    }
   ],
   "source": [
    "i = 1\n",
    "while i<11:\n",
    "    print(i, end = \" \")\n",
    "    #i=i+1\n",
    "    i += 1"
   ]
  },
  {
   "cell_type": "code",
   "execution_count": null,
   "id": "1526c76d",
   "metadata": {},
   "outputs": [],
   "source": [
    "13. If you had a function named bacon() inside a module named spam, how would you call it after importing spam?\n",
    "\n",
    "ans:- spam.bacon()."
   ]
  }
 ],
 "metadata": {
  "kernelspec": {
   "display_name": "Python 3 (ipykernel)",
   "language": "python",
   "name": "python3"
  },
  "language_info": {
   "codemirror_mode": {
    "name": "ipython",
    "version": 3
   },
   "file_extension": ".py",
   "mimetype": "text/x-python",
   "name": "python",
   "nbconvert_exporter": "python",
   "pygments_lexer": "ipython3",
   "version": "3.9.7"
  }
 },
 "nbformat": 4,
 "nbformat_minor": 5
}
