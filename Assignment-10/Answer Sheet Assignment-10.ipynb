{
 "cells": [
  {
   "cell_type": "code",
   "execution_count": 1,
   "id": "b4ecc810",
   "metadata": {},
   "outputs": [
    {
     "ename": "SyntaxError",
     "evalue": "invalid syntax (Temp/ipykernel_18532/2037581469.py, line 1)",
     "output_type": "error",
     "traceback": [
      "\u001b[1;36m  File \u001b[1;32m\"C:\\Users\\MYPC~1\\AppData\\Local\\Temp/ipykernel_18532/2037581469.py\"\u001b[1;36m, line \u001b[1;32m1\u001b[0m\n\u001b[1;33m    1. How do you distinguish between shutil.copy() and shutil.copytree()?\u001b[0m\n\u001b[1;37m       ^\u001b[0m\n\u001b[1;31mSyntaxError\u001b[0m\u001b[1;31m:\u001b[0m invalid syntax\n"
     ]
    }
   ],
   "source": [
    "1. How do you distinguish between shutil.copy() and shutil.copytree()?\n",
    "\n",
    "--> The shutil.copy() function will copy a single file, \n",
    "while shutil.copytree() will copy an entire folder, along with all its contents"
   ]
  },
  {
   "cell_type": "code",
   "execution_count": null,
   "id": "40878576",
   "metadata": {},
   "outputs": [],
   "source": [
    "2. What function is used to rename files??\n",
    "\n",
    "--> shutil.move() function is used for renaming files,"
   ]
  },
  {
   "cell_type": "code",
   "execution_count": null,
   "id": "b2028f3c",
   "metadata": {},
   "outputs": [],
   "source": [
    "3. What is the difference between the delete functions in the send2trash and shutil modules?\n",
    "\n",
    "--> The send2trash functions will move a file or folder to the recycle bin,\n",
    "while shutil functions will permanently delete files and folders."
   ]
  },
  {
   "cell_type": "code",
   "execution_count": null,
   "id": "9fc623eb",
   "metadata": {},
   "outputs": [],
   "source": [
    "4.ZipFile objects have a close() method just like File objects’ close() method.\n",
    "What ZipFile method is equivalent to File objects’ open() method?\n",
    "\n",
    "---> ZipFile() function is equivalent to the open() function; the first argument is the filename, \n",
    "and the second argument is the mode to open the ZIP file in (read, write, or append)."
   ]
  },
  {
   "cell_type": "code",
   "execution_count": null,
   "id": "b66f9048",
   "metadata": {},
   "outputs": [],
   "source": [
    "5. Create a programme that searches a folder tree for files with a certain file extension (such as .pdf or .jpg).\n",
    "Copy these files from whatever location they are in to a new folder."
   ]
  },
  {
   "cell_type": "markdown",
   "id": "50e84824",
   "metadata": {},
   "source": [
    "# To get the files from the given path & copy the files."
   ]
  },
  {
   "cell_type": "code",
   "execution_count": 5,
   "id": "725d88fd",
   "metadata": {},
   "outputs": [],
   "source": [
    "import os\n",
    "import glob\n",
    "import shutil\n",
    "import logging\n",
    "\n",
    "logging.basicConfig(filename= \"File_opr.log\", level= logging.DEBUG, format= \"%(asctime)s %(levelname)s %(message)s\")\n",
    "\n",
    "class file_opr:\n",
    "    \n",
    "    def file_copy(self): \n",
    "        \"\"\" To filter out the desired file extension form given path & copy the files to desired destination\"\"\"   \n",
    "        try:\n",
    "            logging.info(\"The code is executed successfully\")\n",
    "            logging.debug(\"Debugging successfully done\")\n",
    "           \n",
    "            path = str(input(\" Enter the Path : \"))\n",
    "            if path == \"\" :\n",
    "                raise Exception(\"Invalid Path\")\n",
    "            ext = (\".jpg\", \".xlsx\",\".png\")\n",
    "            for file in os.listdir(path):                             \n",
    "                if file.endswith(ext):\n",
    "                    print(file)\n",
    "            \n",
    "            source_dir = path                                                    \n",
    "            destination_dir = \"C:/Users/My PC/Desktop/b\"\n",
    "            for f in glob.iglob(os.path.join(source_dir, \"*.jpg\")):\n",
    "                     shutil.copy(f, destination_dir)\n",
    "            print(\"Successfully copied\")\n",
    "                     \n",
    "        except Exception as e:\n",
    "                     logging.error(\"Errog has happend \")\n",
    "                     logging.exception(\"Exception occured \" + str(e))\n",
    "                     print(str(e))"
   ]
  },
  {
   "cell_type": "code",
   "execution_count": 6,
   "id": "48e19d99",
   "metadata": {},
   "outputs": [],
   "source": [
    "obj  = file_opr()"
   ]
  },
  {
   "cell_type": "code",
   "execution_count": 7,
   "id": "09713c73",
   "metadata": {},
   "outputs": [
    {
     "name": "stdout",
     "output_type": "stream",
     "text": [
      " Enter the Path : C:\\Users\\My PC\\Desktop\\a\n",
      "aa.jpg\n",
      "bb.jpg\n",
      "sc1.jpg\n",
      "sc2.jpg\n",
      "Successfully copied\n"
     ]
    }
   ],
   "source": [
    "obj.file_copy()"
   ]
  },
  {
   "cell_type": "code",
   "execution_count": 8,
   "id": "28cb399f",
   "metadata": {},
   "outputs": [],
   "source": [
    "logging.shutdown()"
   ]
  },
  {
   "cell_type": "code",
   "execution_count": null,
   "id": "37931e7d",
   "metadata": {},
   "outputs": [],
   "source": []
  }
 ],
 "metadata": {
  "kernelspec": {
   "display_name": "Python 3 (ipykernel)",
   "language": "python",
   "name": "python3"
  },
  "language_info": {
   "codemirror_mode": {
    "name": "ipython",
    "version": 3
   },
   "file_extension": ".py",
   "mimetype": "text/x-python",
   "name": "python",
   "nbconvert_exporter": "python",
   "pygments_lexer": "ipython3",
   "version": "3.9.7"
  }
 },
 "nbformat": 4,
 "nbformat_minor": 5
}
