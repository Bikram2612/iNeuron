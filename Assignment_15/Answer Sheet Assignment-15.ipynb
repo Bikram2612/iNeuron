{
 "cells": [
  {
   "cell_type": "markdown",
   "id": "de09d626",
   "metadata": {},
   "source": [
    "1.How many seconds are in an hour? Use the interactive interpreter as a calculator \n",
    "and multiply the number of seconds in a minute (60) by the number of minutes in an hour (also 60)."
   ]
  },
  {
   "cell_type": "code",
   "execution_count": 2,
   "id": "07e0564e",
   "metadata": {},
   "outputs": [
    {
     "name": "stdout",
     "output_type": "stream",
     "text": [
      "3600\n"
     ]
    }
   ],
   "source": [
    "print(60*60)"
   ]
  },
  {
   "cell_type": "markdown",
   "id": "653f1dcf",
   "metadata": {},
   "source": [
    "2. Assign the result from the previous task (seconds in an hour) to a variable called seconds_per_hour."
   ]
  },
  {
   "cell_type": "code",
   "execution_count": 3,
   "id": "b69f43ea",
   "metadata": {},
   "outputs": [
    {
     "name": "stdout",
     "output_type": "stream",
     "text": [
      "3600\n"
     ]
    }
   ],
   "source": [
    "seconds_per_hour = 60*60\n",
    "print(seconds_per_hour)"
   ]
  },
  {
   "cell_type": "markdown",
   "id": "57d3ebf9",
   "metadata": {},
   "source": [
    "3. How many seconds do you think there are in a day? Make use of the variables seconds per hour and minutes per hour."
   ]
  },
  {
   "cell_type": "code",
   "execution_count": 6,
   "id": "27a6fcd4",
   "metadata": {},
   "outputs": [
    {
     "name": "stdout",
     "output_type": "stream",
     "text": [
      "Total No of seconds in a day:  86400 Sec\n"
     ]
    }
   ],
   "source": [
    "seconds_per_hour = 60*60\n",
    "minutes_per_hour = 60\n",
    "\n",
    "print(\"Total No of seconds in a day: \", seconds_per_hour*24, \"Sec\")"
   ]
  },
  {
   "cell_type": "markdown",
   "id": "d6b95982",
   "metadata": {},
   "source": [
    "4. Calculate seconds per day again, but this time save the result in a variable called seconds_per_day"
   ]
  },
  {
   "cell_type": "code",
   "execution_count": 8,
   "id": "0bd4263d",
   "metadata": {},
   "outputs": [
    {
     "name": "stdout",
     "output_type": "stream",
     "text": [
      "86400\n"
     ]
    }
   ],
   "source": [
    "seconds_per_hour = 60*60\n",
    "\n",
    "seconds_in_a_day = (seconds_per_hour*24)\n",
    "\n",
    "print(seconds_in_a_day)"
   ]
  },
  {
   "cell_type": "markdown",
   "id": "75a82743",
   "metadata": {},
   "source": [
    "5. Divide seconds_per_day by seconds_per_hour. Use floating-point (/) division."
   ]
  },
  {
   "cell_type": "code",
   "execution_count": 11,
   "id": "57759895",
   "metadata": {},
   "outputs": [
    {
     "name": "stdout",
     "output_type": "stream",
     "text": [
      "24.0\n"
     ]
    }
   ],
   "source": [
    "seconds_per_hour = float(60*60)\n",
    "seconds_in_a_day = float(seconds_per_hour*24)\n",
    "\n",
    "division = (seconds_in_a_day/seconds_per_hour)\n",
    "\n",
    "print(division)"
   ]
  },
  {
   "cell_type": "markdown",
   "id": "45605aa0",
   "metadata": {},
   "source": [
    "6. Divide seconds_per_day by seconds_per_hour, using integer (//) division. Did this number agree with the floating-point value from the previous question, aside from the final .0?"
   ]
  },
  {
   "cell_type": "code",
   "execution_count": 19,
   "id": "4bb2b868",
   "metadata": {},
   "outputs": [
    {
     "name": "stdout",
     "output_type": "stream",
     "text": [
      "24 --> yes this values agree with the floating point value from the previous question\n"
     ]
    }
   ],
   "source": [
    "seconds_per_hour = 60*60\n",
    "seconds_in_a_day = seconds_per_hour*24\n",
    "\n",
    "division = (seconds_in_a_day//seconds_per_hour)\n",
    "\n",
    "print(division, '--> yes this values agree with the floating point value from the previous question')"
   ]
  },
  {
   "cell_type": "markdown",
   "id": "c9d38bdd",
   "metadata": {},
   "source": [
    "7. Write a generator, genPrimes, that returns the sequence of prime numbers on successive calls to its next() method: 2, 3, 5, 7, 11, ..."
   ]
  },
  {
   "cell_type": "code",
   "execution_count": 148,
   "id": "5763cbf2",
   "metadata": {},
   "outputs": [],
   "source": [
    "prime_list= []\n",
    "def genPrimes():\n",
    "    lower_num = 0\n",
    "    upper_num = 20\n",
    "    \n",
    "    for i in range(lower_num, upper_num+1):\n",
    "        if i>1:\n",
    "            for j in range(2, i):\n",
    "                if i % j == 0:\n",
    "                    break\n",
    "            else:\n",
    "                prime_list.append(i)\n",
    "    print(prime_list)\n",
    "    \n",
    "    #object creation for iter function\n",
    "    \n",
    "obj_1 = iter(prime_list)\n"
   ]
  },
  {
   "cell_type": "code",
   "execution_count": 149,
   "id": "e2388238",
   "metadata": {},
   "outputs": [
    {
     "name": "stdout",
     "output_type": "stream",
     "text": [
      "[2, 3, 5, 7, 11, 13, 17, 19]\n"
     ]
    }
   ],
   "source": [
    "genPrimes()"
   ]
  },
  {
   "cell_type": "code",
   "execution_count": 150,
   "id": "553a95fb",
   "metadata": {},
   "outputs": [
    {
     "name": "stdout",
     "output_type": "stream",
     "text": [
      "2\n",
      "3\n",
      "5\n",
      "7\n",
      "11\n",
      "13\n",
      "17\n",
      "19\n"
     ]
    }
   ],
   "source": [
    "for numbers in range(8):\n",
    "    print(next(obj_1))"
   ]
  },
  {
   "cell_type": "code",
   "execution_count": null,
   "id": "7b334ae7",
   "metadata": {},
   "outputs": [],
   "source": []
  }
 ],
 "metadata": {
  "kernelspec": {
   "display_name": "Python 3 (ipykernel)",
   "language": "python",
   "name": "python3"
  },
  "language_info": {
   "codemirror_mode": {
    "name": "ipython",
    "version": 3
   },
   "file_extension": ".py",
   "mimetype": "text/x-python",
   "name": "python",
   "nbconvert_exporter": "python",
   "pygments_lexer": "ipython3",
   "version": "3.9.7"
  }
 },
 "nbformat": 4,
 "nbformat_minor": 5
}
