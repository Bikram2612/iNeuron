{
 "cells": [
  {
   "cell_type": "code",
   "execution_count": null,
   "id": "d3c81911",
   "metadata": {},
   "outputs": [],
   "source": [
    "1. What exactly is []?\n",
    "\n",
    "--> this is the denotation of a list."
   ]
  },
  {
   "cell_type": "code",
   "execution_count": null,
   "id": "81479fa4",
   "metadata": {},
   "outputs": [],
   "source": [
    "2. In a list of values stored in a variable called spam, how would you assign the value 'hello' as the third value? \n",
    "(Assume [2, 4, 6, 8, 10] are in spam.)"
   ]
  },
  {
   "cell_type": "code",
   "execution_count": 1,
   "id": "e6aa51f8",
   "metadata": {},
   "outputs": [
    {
     "name": "stdout",
     "output_type": "stream",
     "text": [
      "[2, 4, 'Hello', 6, 8, 10]\n"
     ]
    }
   ],
   "source": [
    "spam = [2,4,6,8,10,]\n",
    "spam.insert(2, \"Hello\")\n",
    "print(spam)"
   ]
  },
  {
   "cell_type": "code",
   "execution_count": null,
   "id": "5a5d437f",
   "metadata": {},
   "outputs": [],
   "source": [
    "Let's pretend the spam includes the list ['a', 'b', 'c', 'd'] for the next three queries."
   ]
  },
  {
   "cell_type": "code",
   "execution_count": null,
   "id": "51c2bab1",
   "metadata": {},
   "outputs": [],
   "source": [
    "3. What is the value of spam[int(int('3' * 2) / 11)]?"
   ]
  },
  {
   "cell_type": "code",
   "execution_count": 4,
   "id": "d63dbcd2",
   "metadata": {},
   "outputs": [
    {
     "name": "stdout",
     "output_type": "stream",
     "text": [
      "d\n"
     ]
    }
   ],
   "source": [
    "spam = ['a','b','c','d']\n",
    "c = spam[int(int('3' * 2) / 11)]\n",
    "print(c)"
   ]
  },
  {
   "cell_type": "code",
   "execution_count": null,
   "id": "225490a4",
   "metadata": {},
   "outputs": [],
   "source": [
    "4. What is the value of spam[-1]"
   ]
  },
  {
   "cell_type": "code",
   "execution_count": 51,
   "id": "b2f07f86",
   "metadata": {},
   "outputs": [],
   "source": [
    "spam = ['a','b','c','d']"
   ]
  },
  {
   "cell_type": "code",
   "execution_count": 5,
   "id": "0986f48b",
   "metadata": {},
   "outputs": [
    {
     "data": {
      "text/plain": [
       "'d'"
      ]
     },
     "execution_count": 5,
     "metadata": {},
     "output_type": "execute_result"
    }
   ],
   "source": [
    "spam[-1]"
   ]
  },
  {
   "cell_type": "code",
   "execution_count": null,
   "id": "69e42edf",
   "metadata": {},
   "outputs": [],
   "source": [
    "5. What is the value of spam[:2]"
   ]
  },
  {
   "cell_type": "code",
   "execution_count": null,
   "id": "5bec0fce",
   "metadata": {},
   "outputs": [],
   "source": [
    "spam = ['a','b','c','d']"
   ]
  },
  {
   "cell_type": "code",
   "execution_count": 9,
   "id": "4eac7349",
   "metadata": {},
   "outputs": [
    {
     "data": {
      "text/plain": [
       "['a', 'b']"
      ]
     },
     "execution_count": 9,
     "metadata": {},
     "output_type": "execute_result"
    }
   ],
   "source": [
    "spam[:2]"
   ]
  },
  {
   "cell_type": "code",
   "execution_count": null,
   "id": "412e2351",
   "metadata": {},
   "outputs": [],
   "source": [
    "Let's pretend bacon has the list [3.14, 'cat,' 11, 'cat,' True] for the next three questions.\n",
    "\n",
    "6. What is the value of bacon.index('cat')"
   ]
  },
  {
   "cell_type": "code",
   "execution_count": 1,
   "id": "a33d9fed",
   "metadata": {},
   "outputs": [
    {
     "data": {
      "text/plain": [
       "1"
      ]
     },
     "execution_count": 1,
     "metadata": {},
     "output_type": "execute_result"
    }
   ],
   "source": [
    "bacon = [3.14, 'cat', 11, 'cat', True]\n",
    "\n",
    "bacon.index('cat')"
   ]
  },
  {
   "cell_type": "code",
   "execution_count": null,
   "id": "7850d84a",
   "metadata": {},
   "outputs": [],
   "source": [
    "7. How does bacon.append(99) change the look of the list value in bacon"
   ]
  },
  {
   "cell_type": "code",
   "execution_count": 2,
   "id": "5fe2674c",
   "metadata": {},
   "outputs": [
    {
     "name": "stdout",
     "output_type": "stream",
     "text": [
      "[3.14, 'cat', 11, 'cat', True, 99]\n"
     ]
    }
   ],
   "source": [
    "r = bacon.append(99)\n",
    "print(bacon) "
   ]
  },
  {
   "cell_type": "code",
   "execution_count": null,
   "id": "c69251ba",
   "metadata": {},
   "outputs": [],
   "source": [
    "8. How does bacon.remove('cat') change the look of the list in bacon?"
   ]
  },
  {
   "cell_type": "code",
   "execution_count": 3,
   "id": "8f27919e",
   "metadata": {},
   "outputs": [
    {
     "name": "stdout",
     "output_type": "stream",
     "text": [
      "[3.14, 11, 'cat', True, 99]\n"
     ]
    }
   ],
   "source": [
    "bacon.remove('cat')\n",
    "print(bacon)"
   ]
  },
  {
   "cell_type": "code",
   "execution_count": null,
   "id": "725bcf57",
   "metadata": {},
   "outputs": [],
   "source": [
    "9. What are the list concatenation and list replication operators\n",
    "--> The operator for list concentration is +, while the operator for replication is *"
   ]
  },
  {
   "cell_type": "code",
   "execution_count": null,
   "id": "f37ee49e",
   "metadata": {},
   "outputs": [],
   "source": [
    "10. What is difference between the list methods append() and insert()?\n",
    "--> append() will add values to the end of a list while insert() can add them anywhere in the list by specifying index."
   ]
  },
  {
   "cell_type": "code",
   "execution_count": null,
   "id": "5cc6a948",
   "metadata": {},
   "outputs": [],
   "source": [
    "11. What are the two methods for removing items from a list\n",
    "--> by using remove() and del statement."
   ]
  },
  {
   "cell_type": "code",
   "execution_count": null,
   "id": "dc8a70eb",
   "metadata": {},
   "outputs": [],
   "source": [
    "12. Describe how list values and string values are identical.\n",
    "--> list values are similar to string values because both can be passes to len()"
   ]
  },
  {
   "cell_type": "code",
   "execution_count": null,
   "id": "fba15eba",
   "metadata": {},
   "outputs": [],
   "source": [
    "13. What's the difference between tuples and lists\n",
    "--> single braces () is used in tuples while in list square braces [] used. \n",
    "--> tuples is a immutable collection while list mutable."
   ]
  },
  {
   "cell_type": "code",
   "execution_count": null,
   "id": "7e7632ac",
   "metadata": {},
   "outputs": [],
   "source": [
    "14. How do you type a tuple value that only contains the integer 42\n",
    "--> (42)"
   ]
  },
  {
   "cell_type": "code",
   "execution_count": null,
   "id": "18a6b372",
   "metadata": {},
   "outputs": [],
   "source": [
    "15. How do you get a list value's tuple form? How do you get a tuple value's list form\n",
    "--> lets say i have a list l1 = [1,2,3].so to get tuples i have to pass through like tuple(l1)"
   ]
  },
  {
   "cell_type": "code",
   "execution_count": 4,
   "id": "1345b121",
   "metadata": {},
   "outputs": [],
   "source": [
    "l1 = [1,2,3]\n",
    "d = tuple(l1)"
   ]
  },
  {
   "cell_type": "code",
   "execution_count": 5,
   "id": "876b2ae6",
   "metadata": {},
   "outputs": [
    {
     "data": {
      "text/plain": [
       "(1, 2, 3)"
      ]
     },
     "execution_count": 5,
     "metadata": {},
     "output_type": "execute_result"
    }
   ],
   "source": [
    "d"
   ]
  },
  {
   "cell_type": "code",
   "execution_count": null,
   "id": "1e25198c",
   "metadata": {},
   "outputs": [],
   "source": [
    "--> lets say i have a tuple d = (1,2,3).so to get list i have to pass through like list(d)"
   ]
  },
  {
   "cell_type": "code",
   "execution_count": 6,
   "id": "e8970fce",
   "metadata": {},
   "outputs": [],
   "source": [
    "t = list(d)"
   ]
  },
  {
   "cell_type": "code",
   "execution_count": 7,
   "id": "0320c0b7",
   "metadata": {},
   "outputs": [
    {
     "data": {
      "text/plain": [
       "[1, 2, 3]"
      ]
     },
     "execution_count": 7,
     "metadata": {},
     "output_type": "execute_result"
    }
   ],
   "source": [
    "t"
   ]
  },
  {
   "cell_type": "code",
   "execution_count": null,
   "id": "11eba3c9",
   "metadata": {},
   "outputs": [],
   "source": [
    "16. Variables that \"contain\" list values are not necessarily lists themselves. Instead, what do they contain\n",
    "--> They contain references to list values."
   ]
  },
  {
   "cell_type": "code",
   "execution_count": null,
   "id": "222c0cb4",
   "metadata": {},
   "outputs": [],
   "source": [
    "17. How do you distinguish between copy.copy() and copy.deepcopy()\n",
    "\n",
    "--> The copy.copy() function will do a shallow copy of a list, while the copy.deepcopy() function will \n",
    "do a deep copy of a list. That is, only copy.deepcopy() will duplicate any lists inside the list."
   ]
  },
  {
   "cell_type": "code",
   "execution_count": null,
   "id": "0d306d80",
   "metadata": {},
   "outputs": [],
   "source": []
  },
  {
   "cell_type": "code",
   "execution_count": null,
   "id": "f54e3440",
   "metadata": {},
   "outputs": [],
   "source": []
  },
  {
   "cell_type": "code",
   "execution_count": null,
   "id": "9d55d2d0",
   "metadata": {},
   "outputs": [],
   "source": []
  },
  {
   "cell_type": "code",
   "execution_count": null,
   "id": "97bf1266",
   "metadata": {},
   "outputs": [],
   "source": []
  }
 ],
 "metadata": {
  "kernelspec": {
   "display_name": "Python 3 (ipykernel)",
   "language": "python",
   "name": "python3"
  },
  "language_info": {
   "codemirror_mode": {
    "name": "ipython",
    "version": 3
   },
   "file_extension": ".py",
   "mimetype": "text/x-python",
   "name": "python",
   "nbconvert_exporter": "python",
   "pygments_lexer": "ipython3",
   "version": "3.9.7"
  }
 },
 "nbformat": 4,
 "nbformat_minor": 5
}
